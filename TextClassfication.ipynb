{
  "nbformat": 4,
  "nbformat_minor": 0,
  "metadata": {
    "colab": {
      "name": "TextClassfication.ipynb",
      "provenance": [],
      "collapsed_sections": []
    },
    "kernelspec": {
      "name": "python3",
      "display_name": "Python 3"
    },
    "language_info": {
      "name": "python"
    },
    "accelerator": "GPU"
  },
  "cells": [
    {
      "cell_type": "markdown",
      "metadata": {
        "id": "6qwoZzkBuZCc"
      },
      "source": [
        "# Installing Dependicies "
      ]
    },
    {
      "cell_type": "code",
      "metadata": {
        "colab": {
          "base_uri": "https://localhost:8080/"
        },
        "id": "N0t4a8MvcUZh",
        "outputId": "cf151dc4-9526-41af-8110-99025aa82bf2"
      },
      "source": [
        "!pip install tensorflow_text\n",
        "!pip install tf-models-official\n",
        "!pip install re"
      ],
      "execution_count": 1,
      "outputs": [
        {
          "output_type": "stream",
          "name": "stdout",
          "text": [
            "Requirement already satisfied: tensorflow_text in /usr/local/lib/python3.7/dist-packages (2.6.0)\n",
            "Requirement already satisfied: tensorflow-hub>=0.8.0 in /usr/local/lib/python3.7/dist-packages (from tensorflow_text) (0.12.0)\n",
            "Requirement already satisfied: tensorflow<2.7,>=2.6.0 in /usr/local/lib/python3.7/dist-packages (from tensorflow_text) (2.6.0)\n",
            "Requirement already satisfied: typing-extensions~=3.7.4 in /usr/local/lib/python3.7/dist-packages (from tensorflow<2.7,>=2.6.0->tensorflow_text) (3.7.4.3)\n",
            "Requirement already satisfied: keras-preprocessing~=1.1.2 in /usr/local/lib/python3.7/dist-packages (from tensorflow<2.7,>=2.6.0->tensorflow_text) (1.1.2)\n",
            "Requirement already satisfied: protobuf>=3.9.2 in /usr/local/lib/python3.7/dist-packages (from tensorflow<2.7,>=2.6.0->tensorflow_text) (3.17.3)\n",
            "Requirement already satisfied: numpy~=1.19.2 in /usr/local/lib/python3.7/dist-packages (from tensorflow<2.7,>=2.6.0->tensorflow_text) (1.19.5)\n",
            "Requirement already satisfied: h5py~=3.1.0 in /usr/local/lib/python3.7/dist-packages (from tensorflow<2.7,>=2.6.0->tensorflow_text) (3.1.0)\n",
            "Requirement already satisfied: flatbuffers~=1.12.0 in /usr/local/lib/python3.7/dist-packages (from tensorflow<2.7,>=2.6.0->tensorflow_text) (1.12)\n",
            "Requirement already satisfied: absl-py~=0.10 in /usr/local/lib/python3.7/dist-packages (from tensorflow<2.7,>=2.6.0->tensorflow_text) (0.12.0)\n",
            "Requirement already satisfied: clang~=5.0 in /usr/local/lib/python3.7/dist-packages (from tensorflow<2.7,>=2.6.0->tensorflow_text) (5.0)\n",
            "Requirement already satisfied: astunparse~=1.6.3 in /usr/local/lib/python3.7/dist-packages (from tensorflow<2.7,>=2.6.0->tensorflow_text) (1.6.3)\n",
            "Requirement already satisfied: google-pasta~=0.2 in /usr/local/lib/python3.7/dist-packages (from tensorflow<2.7,>=2.6.0->tensorflow_text) (0.2.0)\n",
            "Requirement already satisfied: opt-einsum~=3.3.0 in /usr/local/lib/python3.7/dist-packages (from tensorflow<2.7,>=2.6.0->tensorflow_text) (3.3.0)\n",
            "Requirement already satisfied: keras~=2.6 in /usr/local/lib/python3.7/dist-packages (from tensorflow<2.7,>=2.6.0->tensorflow_text) (2.6.0)\n",
            "Requirement already satisfied: termcolor~=1.1.0 in /usr/local/lib/python3.7/dist-packages (from tensorflow<2.7,>=2.6.0->tensorflow_text) (1.1.0)\n",
            "Requirement already satisfied: tensorflow-estimator~=2.6 in /usr/local/lib/python3.7/dist-packages (from tensorflow<2.7,>=2.6.0->tensorflow_text) (2.6.0)\n",
            "Requirement already satisfied: wheel~=0.35 in /usr/local/lib/python3.7/dist-packages (from tensorflow<2.7,>=2.6.0->tensorflow_text) (0.37.0)\n",
            "Requirement already satisfied: gast==0.4.0 in /usr/local/lib/python3.7/dist-packages (from tensorflow<2.7,>=2.6.0->tensorflow_text) (0.4.0)\n",
            "Requirement already satisfied: six~=1.15.0 in /usr/local/lib/python3.7/dist-packages (from tensorflow<2.7,>=2.6.0->tensorflow_text) (1.15.0)\n",
            "Requirement already satisfied: wrapt~=1.12.1 in /usr/local/lib/python3.7/dist-packages (from tensorflow<2.7,>=2.6.0->tensorflow_text) (1.12.1)\n",
            "Requirement already satisfied: tensorboard~=2.6 in /usr/local/lib/python3.7/dist-packages (from tensorflow<2.7,>=2.6.0->tensorflow_text) (2.6.0)\n",
            "Requirement already satisfied: grpcio<2.0,>=1.37.0 in /usr/local/lib/python3.7/dist-packages (from tensorflow<2.7,>=2.6.0->tensorflow_text) (1.40.0)\n",
            "Requirement already satisfied: cached-property in /usr/local/lib/python3.7/dist-packages (from h5py~=3.1.0->tensorflow<2.7,>=2.6.0->tensorflow_text) (1.5.2)\n",
            "Requirement already satisfied: markdown>=2.6.8 in /usr/local/lib/python3.7/dist-packages (from tensorboard~=2.6->tensorflow<2.7,>=2.6.0->tensorflow_text) (3.3.4)\n",
            "Requirement already satisfied: werkzeug>=0.11.15 in /usr/local/lib/python3.7/dist-packages (from tensorboard~=2.6->tensorflow<2.7,>=2.6.0->tensorflow_text) (1.0.1)\n",
            "Requirement already satisfied: tensorboard-data-server<0.7.0,>=0.6.0 in /usr/local/lib/python3.7/dist-packages (from tensorboard~=2.6->tensorflow<2.7,>=2.6.0->tensorflow_text) (0.6.1)\n",
            "Requirement already satisfied: google-auth<2,>=1.6.3 in /usr/local/lib/python3.7/dist-packages (from tensorboard~=2.6->tensorflow<2.7,>=2.6.0->tensorflow_text) (1.35.0)\n",
            "Requirement already satisfied: setuptools>=41.0.0 in /usr/local/lib/python3.7/dist-packages (from tensorboard~=2.6->tensorflow<2.7,>=2.6.0->tensorflow_text) (57.4.0)\n",
            "Requirement already satisfied: google-auth-oauthlib<0.5,>=0.4.1 in /usr/local/lib/python3.7/dist-packages (from tensorboard~=2.6->tensorflow<2.7,>=2.6.0->tensorflow_text) (0.4.6)\n",
            "Requirement already satisfied: requests<3,>=2.21.0 in /usr/local/lib/python3.7/dist-packages (from tensorboard~=2.6->tensorflow<2.7,>=2.6.0->tensorflow_text) (2.23.0)\n",
            "Requirement already satisfied: tensorboard-plugin-wit>=1.6.0 in /usr/local/lib/python3.7/dist-packages (from tensorboard~=2.6->tensorflow<2.7,>=2.6.0->tensorflow_text) (1.8.0)\n",
            "Requirement already satisfied: pyasn1-modules>=0.2.1 in /usr/local/lib/python3.7/dist-packages (from google-auth<2,>=1.6.3->tensorboard~=2.6->tensorflow<2.7,>=2.6.0->tensorflow_text) (0.2.8)\n",
            "Requirement already satisfied: rsa<5,>=3.1.4 in /usr/local/lib/python3.7/dist-packages (from google-auth<2,>=1.6.3->tensorboard~=2.6->tensorflow<2.7,>=2.6.0->tensorflow_text) (4.7.2)\n",
            "Requirement already satisfied: cachetools<5.0,>=2.0.0 in /usr/local/lib/python3.7/dist-packages (from google-auth<2,>=1.6.3->tensorboard~=2.6->tensorflow<2.7,>=2.6.0->tensorflow_text) (4.2.2)\n",
            "Requirement already satisfied: requests-oauthlib>=0.7.0 in /usr/local/lib/python3.7/dist-packages (from google-auth-oauthlib<0.5,>=0.4.1->tensorboard~=2.6->tensorflow<2.7,>=2.6.0->tensorflow_text) (1.3.0)\n",
            "Requirement already satisfied: importlib-metadata in /usr/local/lib/python3.7/dist-packages (from markdown>=2.6.8->tensorboard~=2.6->tensorflow<2.7,>=2.6.0->tensorflow_text) (4.8.1)\n",
            "Requirement already satisfied: pyasn1<0.5.0,>=0.4.6 in /usr/local/lib/python3.7/dist-packages (from pyasn1-modules>=0.2.1->google-auth<2,>=1.6.3->tensorboard~=2.6->tensorflow<2.7,>=2.6.0->tensorflow_text) (0.4.8)\n",
            "Requirement already satisfied: certifi>=2017.4.17 in /usr/local/lib/python3.7/dist-packages (from requests<3,>=2.21.0->tensorboard~=2.6->tensorflow<2.7,>=2.6.0->tensorflow_text) (2021.5.30)\n",
            "Requirement already satisfied: chardet<4,>=3.0.2 in /usr/local/lib/python3.7/dist-packages (from requests<3,>=2.21.0->tensorboard~=2.6->tensorflow<2.7,>=2.6.0->tensorflow_text) (3.0.4)\n",
            "Requirement already satisfied: idna<3,>=2.5 in /usr/local/lib/python3.7/dist-packages (from requests<3,>=2.21.0->tensorboard~=2.6->tensorflow<2.7,>=2.6.0->tensorflow_text) (2.10)\n",
            "Requirement already satisfied: urllib3!=1.25.0,!=1.25.1,<1.26,>=1.21.1 in /usr/local/lib/python3.7/dist-packages (from requests<3,>=2.21.0->tensorboard~=2.6->tensorflow<2.7,>=2.6.0->tensorflow_text) (1.24.3)\n",
            "Requirement already satisfied: oauthlib>=3.0.0 in /usr/local/lib/python3.7/dist-packages (from requests-oauthlib>=0.7.0->google-auth-oauthlib<0.5,>=0.4.1->tensorboard~=2.6->tensorflow<2.7,>=2.6.0->tensorflow_text) (3.1.1)\n",
            "Requirement already satisfied: zipp>=0.5 in /usr/local/lib/python3.7/dist-packages (from importlib-metadata->markdown>=2.6.8->tensorboard~=2.6->tensorflow<2.7,>=2.6.0->tensorflow_text) (3.5.0)\n",
            "Requirement already satisfied: tf-models-official in /usr/local/lib/python3.7/dist-packages (2.6.0)\n",
            "Requirement already satisfied: tensorflow-model-optimization>=0.4.1 in /usr/local/lib/python3.7/dist-packages (from tf-models-official) (0.6.0)\n",
            "Requirement already satisfied: oauth2client in /usr/local/lib/python3.7/dist-packages (from tf-models-official) (4.1.3)\n",
            "Requirement already satisfied: gin-config in /usr/local/lib/python3.7/dist-packages (from tf-models-official) (0.4.0)\n",
            "Requirement already satisfied: tensorflow-addons in /usr/local/lib/python3.7/dist-packages (from tf-models-official) (0.14.0)\n",
            "Requirement already satisfied: numpy>=1.15.4 in /usr/local/lib/python3.7/dist-packages (from tf-models-official) (1.19.5)\n",
            "Requirement already satisfied: tf-slim>=1.1.0 in /usr/local/lib/python3.7/dist-packages (from tf-models-official) (1.1.0)\n",
            "Requirement already satisfied: tensorflow-text>=2.5.0 in /usr/local/lib/python3.7/dist-packages (from tf-models-official) (2.6.0)\n",
            "Requirement already satisfied: opencv-python-headless in /usr/local/lib/python3.7/dist-packages (from tf-models-official) (4.5.3.56)\n",
            "Requirement already satisfied: tensorflow>=2.5.0 in /usr/local/lib/python3.7/dist-packages (from tf-models-official) (2.6.0)\n",
            "Requirement already satisfied: psutil>=5.4.3 in /usr/local/lib/python3.7/dist-packages (from tf-models-official) (5.4.8)\n",
            "Requirement already satisfied: kaggle>=1.3.9 in /usr/local/lib/python3.7/dist-packages (from tf-models-official) (1.5.12)\n",
            "Requirement already satisfied: py-cpuinfo>=3.3.0 in /usr/local/lib/python3.7/dist-packages (from tf-models-official) (8.0.0)\n",
            "Requirement already satisfied: tensorflow-hub>=0.6.0 in /usr/local/lib/python3.7/dist-packages (from tf-models-official) (0.12.0)\n",
            "Requirement already satisfied: scipy>=0.19.1 in /usr/local/lib/python3.7/dist-packages (from tf-models-official) (1.4.1)\n",
            "Requirement already satisfied: Cython in /usr/local/lib/python3.7/dist-packages (from tf-models-official) (0.29.24)\n",
            "Requirement already satisfied: sacrebleu in /usr/local/lib/python3.7/dist-packages (from tf-models-official) (2.0.0)\n",
            "Requirement already satisfied: pandas>=0.22.0 in /usr/local/lib/python3.7/dist-packages (from tf-models-official) (1.1.5)\n",
            "Requirement already satisfied: seqeval in /usr/local/lib/python3.7/dist-packages (from tf-models-official) (1.2.2)\n",
            "Requirement already satisfied: pycocotools in /usr/local/lib/python3.7/dist-packages (from tf-models-official) (2.0.2)\n",
            "Requirement already satisfied: matplotlib in /usr/local/lib/python3.7/dist-packages (from tf-models-official) (3.2.2)\n",
            "Requirement already satisfied: Pillow in /usr/local/lib/python3.7/dist-packages (from tf-models-official) (7.1.2)\n",
            "Requirement already satisfied: pyyaml>=5.1 in /usr/local/lib/python3.7/dist-packages (from tf-models-official) (5.4.1)\n",
            "Requirement already satisfied: google-api-python-client>=1.6.7 in /usr/local/lib/python3.7/dist-packages (from tf-models-official) (1.12.8)\n",
            "Requirement already satisfied: sentencepiece in /usr/local/lib/python3.7/dist-packages (from tf-models-official) (0.1.96)\n",
            "Requirement already satisfied: tensorflow-datasets in /usr/local/lib/python3.7/dist-packages (from tf-models-official) (4.0.1)\n",
            "Requirement already satisfied: six in /usr/local/lib/python3.7/dist-packages (from tf-models-official) (1.15.0)\n",
            "Requirement already satisfied: google-auth-httplib2>=0.0.3 in /usr/local/lib/python3.7/dist-packages (from google-api-python-client>=1.6.7->tf-models-official) (0.0.4)\n",
            "Requirement already satisfied: google-auth>=1.16.0 in /usr/local/lib/python3.7/dist-packages (from google-api-python-client>=1.6.7->tf-models-official) (1.35.0)\n",
            "Requirement already satisfied: httplib2<1dev,>=0.15.0 in /usr/local/lib/python3.7/dist-packages (from google-api-python-client>=1.6.7->tf-models-official) (0.17.4)\n",
            "Requirement already satisfied: google-api-core<2dev,>=1.21.0 in /usr/local/lib/python3.7/dist-packages (from google-api-python-client>=1.6.7->tf-models-official) (1.26.3)\n",
            "Requirement already satisfied: uritemplate<4dev,>=3.0.0 in /usr/local/lib/python3.7/dist-packages (from google-api-python-client>=1.6.7->tf-models-official) (3.0.1)\n",
            "Requirement already satisfied: protobuf>=3.12.0 in /usr/local/lib/python3.7/dist-packages (from google-api-core<2dev,>=1.21.0->google-api-python-client>=1.6.7->tf-models-official) (3.17.3)\n",
            "Requirement already satisfied: requests<3.0.0dev,>=2.18.0 in /usr/local/lib/python3.7/dist-packages (from google-api-core<2dev,>=1.21.0->google-api-python-client>=1.6.7->tf-models-official) (2.23.0)\n",
            "Requirement already satisfied: setuptools>=40.3.0 in /usr/local/lib/python3.7/dist-packages (from google-api-core<2dev,>=1.21.0->google-api-python-client>=1.6.7->tf-models-official) (57.4.0)\n",
            "Requirement already satisfied: googleapis-common-protos<2.0dev,>=1.6.0 in /usr/local/lib/python3.7/dist-packages (from google-api-core<2dev,>=1.21.0->google-api-python-client>=1.6.7->tf-models-official) (1.53.0)\n",
            "Requirement already satisfied: pytz in /usr/local/lib/python3.7/dist-packages (from google-api-core<2dev,>=1.21.0->google-api-python-client>=1.6.7->tf-models-official) (2018.9)\n",
            "Requirement already satisfied: packaging>=14.3 in /usr/local/lib/python3.7/dist-packages (from google-api-core<2dev,>=1.21.0->google-api-python-client>=1.6.7->tf-models-official) (21.0)\n",
            "Requirement already satisfied: pyasn1-modules>=0.2.1 in /usr/local/lib/python3.7/dist-packages (from google-auth>=1.16.0->google-api-python-client>=1.6.7->tf-models-official) (0.2.8)\n",
            "Requirement already satisfied: cachetools<5.0,>=2.0.0 in /usr/local/lib/python3.7/dist-packages (from google-auth>=1.16.0->google-api-python-client>=1.6.7->tf-models-official) (4.2.2)\n",
            "Requirement already satisfied: rsa<5,>=3.1.4 in /usr/local/lib/python3.7/dist-packages (from google-auth>=1.16.0->google-api-python-client>=1.6.7->tf-models-official) (4.7.2)\n",
            "Requirement already satisfied: certifi in /usr/local/lib/python3.7/dist-packages (from kaggle>=1.3.9->tf-models-official) (2021.5.30)\n",
            "Requirement already satisfied: tqdm in /usr/local/lib/python3.7/dist-packages (from kaggle>=1.3.9->tf-models-official) (4.62.2)\n",
            "Requirement already satisfied: python-slugify in /usr/local/lib/python3.7/dist-packages (from kaggle>=1.3.9->tf-models-official) (5.0.2)\n",
            "Requirement already satisfied: python-dateutil in /usr/local/lib/python3.7/dist-packages (from kaggle>=1.3.9->tf-models-official) (2.8.2)\n",
            "Requirement already satisfied: urllib3 in /usr/local/lib/python3.7/dist-packages (from kaggle>=1.3.9->tf-models-official) (1.24.3)\n",
            "Requirement already satisfied: pyparsing>=2.0.2 in /usr/local/lib/python3.7/dist-packages (from packaging>=14.3->google-api-core<2dev,>=1.21.0->google-api-python-client>=1.6.7->tf-models-official) (2.4.7)\n",
            "Requirement already satisfied: pyasn1<0.5.0,>=0.4.6 in /usr/local/lib/python3.7/dist-packages (from pyasn1-modules>=0.2.1->google-auth>=1.16.0->google-api-python-client>=1.6.7->tf-models-official) (0.4.8)\n",
            "Requirement already satisfied: idna<3,>=2.5 in /usr/local/lib/python3.7/dist-packages (from requests<3.0.0dev,>=2.18.0->google-api-core<2dev,>=1.21.0->google-api-python-client>=1.6.7->tf-models-official) (2.10)\n",
            "Requirement already satisfied: chardet<4,>=3.0.2 in /usr/local/lib/python3.7/dist-packages (from requests<3.0.0dev,>=2.18.0->google-api-core<2dev,>=1.21.0->google-api-python-client>=1.6.7->tf-models-official) (3.0.4)\n",
            "Requirement already satisfied: google-pasta~=0.2 in /usr/local/lib/python3.7/dist-packages (from tensorflow>=2.5.0->tf-models-official) (0.2.0)\n",
            "Requirement already satisfied: flatbuffers~=1.12.0 in /usr/local/lib/python3.7/dist-packages (from tensorflow>=2.5.0->tf-models-official) (1.12)\n",
            "Requirement already satisfied: grpcio<2.0,>=1.37.0 in /usr/local/lib/python3.7/dist-packages (from tensorflow>=2.5.0->tf-models-official) (1.40.0)\n",
            "Requirement already satisfied: astunparse~=1.6.3 in /usr/local/lib/python3.7/dist-packages (from tensorflow>=2.5.0->tf-models-official) (1.6.3)\n",
            "Requirement already satisfied: wrapt~=1.12.1 in /usr/local/lib/python3.7/dist-packages (from tensorflow>=2.5.0->tf-models-official) (1.12.1)\n",
            "Requirement already satisfied: absl-py~=0.10 in /usr/local/lib/python3.7/dist-packages (from tensorflow>=2.5.0->tf-models-official) (0.12.0)\n",
            "Requirement already satisfied: tensorboard~=2.6 in /usr/local/lib/python3.7/dist-packages (from tensorflow>=2.5.0->tf-models-official) (2.6.0)\n",
            "Requirement already satisfied: h5py~=3.1.0 in /usr/local/lib/python3.7/dist-packages (from tensorflow>=2.5.0->tf-models-official) (3.1.0)\n",
            "Requirement already satisfied: tensorflow-estimator~=2.6 in /usr/local/lib/python3.7/dist-packages (from tensorflow>=2.5.0->tf-models-official) (2.6.0)\n",
            "Requirement already satisfied: termcolor~=1.1.0 in /usr/local/lib/python3.7/dist-packages (from tensorflow>=2.5.0->tf-models-official) (1.1.0)\n",
            "Requirement already satisfied: clang~=5.0 in /usr/local/lib/python3.7/dist-packages (from tensorflow>=2.5.0->tf-models-official) (5.0)\n",
            "Requirement already satisfied: keras-preprocessing~=1.1.2 in /usr/local/lib/python3.7/dist-packages (from tensorflow>=2.5.0->tf-models-official) (1.1.2)\n",
            "Requirement already satisfied: keras~=2.6 in /usr/local/lib/python3.7/dist-packages (from tensorflow>=2.5.0->tf-models-official) (2.6.0)\n",
            "Requirement already satisfied: typing-extensions~=3.7.4 in /usr/local/lib/python3.7/dist-packages (from tensorflow>=2.5.0->tf-models-official) (3.7.4.3)\n",
            "Requirement already satisfied: opt-einsum~=3.3.0 in /usr/local/lib/python3.7/dist-packages (from tensorflow>=2.5.0->tf-models-official) (3.3.0)\n",
            "Requirement already satisfied: wheel~=0.35 in /usr/local/lib/python3.7/dist-packages (from tensorflow>=2.5.0->tf-models-official) (0.37.0)\n",
            "Requirement already satisfied: gast==0.4.0 in /usr/local/lib/python3.7/dist-packages (from tensorflow>=2.5.0->tf-models-official) (0.4.0)\n",
            "Requirement already satisfied: cached-property in /usr/local/lib/python3.7/dist-packages (from h5py~=3.1.0->tensorflow>=2.5.0->tf-models-official) (1.5.2)\n",
            "Requirement already satisfied: werkzeug>=0.11.15 in /usr/local/lib/python3.7/dist-packages (from tensorboard~=2.6->tensorflow>=2.5.0->tf-models-official) (1.0.1)\n",
            "Requirement already satisfied: tensorboard-plugin-wit>=1.6.0 in /usr/local/lib/python3.7/dist-packages (from tensorboard~=2.6->tensorflow>=2.5.0->tf-models-official) (1.8.0)\n",
            "Requirement already satisfied: google-auth-oauthlib<0.5,>=0.4.1 in /usr/local/lib/python3.7/dist-packages (from tensorboard~=2.6->tensorflow>=2.5.0->tf-models-official) (0.4.6)\n",
            "Requirement already satisfied: markdown>=2.6.8 in /usr/local/lib/python3.7/dist-packages (from tensorboard~=2.6->tensorflow>=2.5.0->tf-models-official) (3.3.4)\n",
            "Requirement already satisfied: tensorboard-data-server<0.7.0,>=0.6.0 in /usr/local/lib/python3.7/dist-packages (from tensorboard~=2.6->tensorflow>=2.5.0->tf-models-official) (0.6.1)\n",
            "Requirement already satisfied: requests-oauthlib>=0.7.0 in /usr/local/lib/python3.7/dist-packages (from google-auth-oauthlib<0.5,>=0.4.1->tensorboard~=2.6->tensorflow>=2.5.0->tf-models-official) (1.3.0)\n",
            "Requirement already satisfied: importlib-metadata in /usr/local/lib/python3.7/dist-packages (from markdown>=2.6.8->tensorboard~=2.6->tensorflow>=2.5.0->tf-models-official) (4.8.1)\n",
            "Requirement already satisfied: oauthlib>=3.0.0 in /usr/local/lib/python3.7/dist-packages (from requests-oauthlib>=0.7.0->google-auth-oauthlib<0.5,>=0.4.1->tensorboard~=2.6->tensorflow>=2.5.0->tf-models-official) (3.1.1)\n",
            "Requirement already satisfied: dm-tree~=0.1.1 in /usr/local/lib/python3.7/dist-packages (from tensorflow-model-optimization>=0.4.1->tf-models-official) (0.1.6)\n",
            "Requirement already satisfied: zipp>=0.5 in /usr/local/lib/python3.7/dist-packages (from importlib-metadata->markdown>=2.6.8->tensorboard~=2.6->tensorflow>=2.5.0->tf-models-official) (3.5.0)\n",
            "Requirement already satisfied: cycler>=0.10 in /usr/local/lib/python3.7/dist-packages (from matplotlib->tf-models-official) (0.10.0)\n",
            "Requirement already satisfied: kiwisolver>=1.0.1 in /usr/local/lib/python3.7/dist-packages (from matplotlib->tf-models-official) (1.3.2)\n",
            "Requirement already satisfied: text-unidecode>=1.3 in /usr/local/lib/python3.7/dist-packages (from python-slugify->kaggle>=1.3.9->tf-models-official) (1.3)\n",
            "Requirement already satisfied: colorama in /usr/local/lib/python3.7/dist-packages (from sacrebleu->tf-models-official) (0.4.4)\n",
            "Requirement already satisfied: portalocker in /usr/local/lib/python3.7/dist-packages (from sacrebleu->tf-models-official) (2.3.2)\n",
            "Requirement already satisfied: regex in /usr/local/lib/python3.7/dist-packages (from sacrebleu->tf-models-official) (2019.12.20)\n",
            "Requirement already satisfied: tabulate>=0.8.9 in /usr/local/lib/python3.7/dist-packages (from sacrebleu->tf-models-official) (0.8.9)\n",
            "Requirement already satisfied: scikit-learn>=0.21.3 in /usr/local/lib/python3.7/dist-packages (from seqeval->tf-models-official) (0.22.2.post1)\n",
            "Requirement already satisfied: joblib>=0.11 in /usr/local/lib/python3.7/dist-packages (from scikit-learn>=0.21.3->seqeval->tf-models-official) (1.0.1)\n",
            "Requirement already satisfied: typeguard>=2.7 in /usr/local/lib/python3.7/dist-packages (from tensorflow-addons->tf-models-official) (2.7.1)\n",
            "Requirement already satisfied: tensorflow-metadata in /usr/local/lib/python3.7/dist-packages (from tensorflow-datasets->tf-models-official) (1.2.0)\n",
            "Requirement already satisfied: attrs>=18.1.0 in /usr/local/lib/python3.7/dist-packages (from tensorflow-datasets->tf-models-official) (21.2.0)\n",
            "Requirement already satisfied: promise in /usr/local/lib/python3.7/dist-packages (from tensorflow-datasets->tf-models-official) (2.3)\n",
            "Requirement already satisfied: dill in /usr/local/lib/python3.7/dist-packages (from tensorflow-datasets->tf-models-official) (0.3.4)\n",
            "Requirement already satisfied: future in /usr/local/lib/python3.7/dist-packages (from tensorflow-datasets->tf-models-official) (0.16.0)\n",
            "Requirement already satisfied: importlib-resources in /usr/local/lib/python3.7/dist-packages (from tensorflow-datasets->tf-models-official) (5.2.2)\n",
            "\u001b[31mERROR: Could not find a version that satisfies the requirement re (from versions: none)\u001b[0m\n",
            "\u001b[31mERROR: No matching distribution found for re\u001b[0m\n"
          ]
        }
      ]
    },
    {
      "cell_type": "markdown",
      "metadata": {
        "id": "HnHmgSrmujBO"
      },
      "source": [
        "# Data Cleaning "
      ]
    },
    {
      "cell_type": "code",
      "metadata": {
        "id": "Hxzr5MRWf0iJ",
        "colab": {
          "base_uri": "https://localhost:8080/"
        },
        "outputId": "35e9e63e-8f36-42c7-fdb9-bd7f3d4e6730"
      },
      "source": [
        "from google.colab import drive\n",
        "drive.mount('/content/gdrive')"
      ],
      "execution_count": 2,
      "outputs": [
        {
          "output_type": "stream",
          "name": "stdout",
          "text": [
            "Drive already mounted at /content/gdrive; to attempt to forcibly remount, call drive.mount(\"/content/gdrive\", force_remount=True).\n"
          ]
        }
      ]
    },
    {
      "cell_type": "code",
      "metadata": {
        "id": "QktKyU3NgFX4"
      },
      "source": [
        "import pandas as pd\n",
        "\n",
        "lookupDS= pd.read_excel(\"/content/gdrive/MyDrive/Source Trove.xlsx\",header=2 ,sheet_name=['August 13th 2021', 'August 16th 2021 - Evening', 'August 17th 2021 - Evening ', 'August 18th 2021 - Evening', 'Sheet1', 'August 19th 2021 - Evening ', 'August 20st 2021 - Evening', 'August 20th 2021 - Morning', 'August 23rd - Morning', 'August 23rd 2021 - Evening ', 'August 24th 2021- Morning', 'August 24th 2021 - Evening  ', 'August 25th-Morning', 'August 25th 2021 - Evening  ', 'August 26th - Morning', 'August 26th 2021 - Evening  ', 'August 27th- Morning', 'August 27th 2021 - Evening', 'August 30th - Morning', 'August 30th 2021 - Evening ', 'August 31st- Morning', 'August 31st 2021 - Evening', 'September 1st-Morning', 'September 1st 2021 - Evening', 'September 2nd- Morning', 'September 2nd 2021 - Evening', 'September 3rd-Morning', 'September 3rd 2021 - Evening'])\n",
        "mdf = pd.concat(lookupDS, axis=0, ignore_index=True)\n"
      ],
      "execution_count": 3,
      "outputs": []
    },
    {
      "cell_type": "code",
      "metadata": {
        "id": "p_ap1ZcKmnMQ"
      },
      "source": [
        "mdf = mdf.drop_duplicates()\n",
        "mdf = mdf[mdf[\"Practice Area\"].notna()]\n",
        "mdf[\"Practice Area\"]=mdf[\"Practice Area\"].str.lower()"
      ],
      "execution_count": 4,
      "outputs": []
    },
    {
      "cell_type": "code",
      "metadata": {
        "id": "2C-gRTA_pecF",
        "colab": {
          "base_uri": "https://localhost:8080/"
        },
        "outputId": "9c7f7b3b-8ad7-43a3-de86-58b0d905b28d"
      },
      "source": [
        "mdf[\"Practice Area\"].value_counts()\n"
      ],
      "execution_count": 6,
      "outputs": [
        {
          "output_type": "execute_result",
          "data": {
            "text/plain": [
              "cross practice - federal general politics    594\n",
              "biopharmaceutical                            469\n",
              "cross practice - other canadian politics     268\n",
              "covid-19                                     259\n",
              "cross practice - ontario general politics    120\n",
              "(lpc)- liberal party of canada               111\n",
              "health general overview                       91\n",
              "(cpc)- conservative party of canada           75\n",
              "(ndp)- new democratic party of canada         66\n",
              "cannabis                                      35\n",
              "housing                                       27\n",
              "foreign affairs                               27\n",
              "mental health and addictions                  24\n",
              "economy, finances, & taxes                    24\n",
              "health systems strategy                       22\n",
              "regulated health prof.                        18\n",
              "dermatology                                   16\n",
              "thrombosis                                    16\n",
              "(gpc)- green party of canada                  16\n",
              "indigenous relations                          15\n",
              "seniors                                       14\n",
              "environment                                   14\n",
              "cross practice - higher education             12\n",
              "public health                                 12\n",
              "labour & employment                           12\n",
              "families & youth                               9\n",
              "energy & natural resources                     6\n",
              "agriculture                                    6\n",
              "small business                                 5\n",
              "national defence                               4\n",
              "education & training                           4\n",
              "digital health                                 4\n",
              "infrastructure                                 4\n",
              "immigration                                    4\n",
              "transit                                        3\n",
              "privacy / security                             3\n",
              "(ppc)- peoples party of canada                 3\n",
              "biosimilars and biologics                      2\n",
              "cpc                                            1\n",
              "us pharma policy                               1\n",
              "Name: Practice Area, dtype: int64"
            ]
          },
          "metadata": {},
          "execution_count": 6
        }
      ]
    },
    {
      "cell_type": "code",
      "metadata": {
        "id": "6x6AykRQvBwo",
        "colab": {
          "base_uri": "https://localhost:8080/"
        },
        "outputId": "56d48da6-f39b-46a8-9822-ba066357afc2"
      },
      "source": [
        "import re\n",
        "party_mask = mdf[\"Practice Area\"].str.contains(\"party\",flags=re.IGNORECASE)\n",
        "mdf[\"Practice Area\"][party_mask] = \"party related\"\n",
        "\n",
        "party_mask = mdf[\"Practice Area\"].str.contains(\"cpc\",flags=re.IGNORECASE)\n",
        "mdf[\"Practice Area\"][party_mask] = \"party related\""
      ],
      "execution_count": 7,
      "outputs": [
        {
          "output_type": "stream",
          "name": "stderr",
          "text": [
            "/usr/local/lib/python3.7/dist-packages/ipykernel_launcher.py:3: SettingWithCopyWarning: \n",
            "A value is trying to be set on a copy of a slice from a DataFrame\n",
            "\n",
            "See the caveats in the documentation: https://pandas.pydata.org/pandas-docs/stable/user_guide/indexing.html#returning-a-view-versus-a-copy\n",
            "  This is separate from the ipykernel package so we can avoid doing imports until\n",
            "/usr/local/lib/python3.7/dist-packages/ipykernel_launcher.py:6: SettingWithCopyWarning: \n",
            "A value is trying to be set on a copy of a slice from a DataFrame\n",
            "\n",
            "See the caveats in the documentation: https://pandas.pydata.org/pandas-docs/stable/user_guide/indexing.html#returning-a-view-versus-a-copy\n",
            "  \n"
          ]
        }
      ]
    },
    {
      "cell_type": "code",
      "metadata": {
        "colab": {
          "base_uri": "https://localhost:8080/",
          "height": 719
        },
        "id": "W_ELRldN0xWz",
        "outputId": "3f25732b-0d29-4e87-e786-c257de038a19"
      },
      "source": [
        "mdf.head()"
      ],
      "execution_count": 8,
      "outputs": [
        {
          "output_type": "execute_result",
          "data": {
            "text/html": [
              "<div>\n",
              "<style scoped>\n",
              "    .dataframe tbody tr th:only-of-type {\n",
              "        vertical-align: middle;\n",
              "    }\n",
              "\n",
              "    .dataframe tbody tr th {\n",
              "        vertical-align: top;\n",
              "    }\n",
              "\n",
              "    .dataframe thead th {\n",
              "        text-align: right;\n",
              "    }\n",
              "</style>\n",
              "<table border=\"1\" class=\"dataframe\">\n",
              "  <thead>\n",
              "    <tr style=\"text-align: right;\">\n",
              "      <th></th>\n",
              "      <th>Title</th>\n",
              "      <th>Information type</th>\n",
              "      <th>Column1</th>\n",
              "      <th>Source</th>\n",
              "      <th>Story from Blacklock's?</th>\n",
              "      <th>Comments for writers</th>\n",
              "      <th>Practice Area</th>\n",
              "      <th>Practice Area 2 (optional)</th>\n",
              "      <th>Practice Area 3 (optional)</th>\n",
              "      <th>Practice Area 4 (optional)</th>\n",
              "      <th>Story Written</th>\n",
              "      <th>Story Written (Yes/No)</th>\n",
              "      <th>Source URL</th>\n",
              "      <th>What section of brief?</th>\n",
              "      <th>Text of story (or other notes copied/pasted)</th>\n",
              "      <th>Story Written (In Progress / Yes)</th>\n",
              "      <th>Client (ex: Kevin Vuong, C3)</th>\n",
              "    </tr>\n",
              "  </thead>\n",
              "  <tbody>\n",
              "    <tr>\n",
              "      <th>0</th>\n",
              "      <td>Alison Macdonald wins Liberal Party Nomination...</td>\n",
              "      <td>Other</td>\n",
              "      <td>NaN</td>\n",
              "      <td>https://liberal.ca/your-liberal-candidates/</td>\n",
              "      <td>No</td>\n",
              "      <td>Relevant to Kevin Voung Campaign, interested i...</td>\n",
              "      <td>party related</td>\n",
              "      <td>Cross Practice - Federal General Politics</td>\n",
              "      <td>NaN</td>\n",
              "      <td>NaN</td>\n",
              "      <td>Yes  - Simran</td>\n",
              "      <td>NaN</td>\n",
              "      <td>NaN</td>\n",
              "      <td>NaN</td>\n",
              "      <td>NaN</td>\n",
              "      <td>NaN</td>\n",
              "      <td>NaN</td>\n",
              "    </tr>\n",
              "    <tr>\n",
              "      <th>1</th>\n",
              "      <td>Senior Liberal ministerial staffers start to t...</td>\n",
              "      <td>News Article</td>\n",
              "      <td>NaN</td>\n",
              "      <td>https://www.hilltimes.com/2021/08/10/senior-li...</td>\n",
              "      <td>No</td>\n",
              "      <td>Article supports the idea of election being ca...</td>\n",
              "      <td>party related</td>\n",
              "      <td>Cross Practice - Federal General Politics</td>\n",
              "      <td>NaN</td>\n",
              "      <td>NaN</td>\n",
              "      <td>In Progress - Graeden</td>\n",
              "      <td>NaN</td>\n",
              "      <td>NaN</td>\n",
              "      <td>NaN</td>\n",
              "      <td>NaN</td>\n",
              "      <td>NaN</td>\n",
              "      <td>NaN</td>\n",
              "    </tr>\n",
              "    <tr>\n",
              "      <th>2</th>\n",
              "      <td>Affordability anxiety continues as income and ...</td>\n",
              "      <td>Report</td>\n",
              "      <td>NaN</td>\n",
              "      <td>https://abacusdata.ca/affordability-anxiety-pe...</td>\n",
              "      <td>No</td>\n",
              "      <td>Worry about cost of living crosses the politic...</td>\n",
              "      <td>economy, finances, &amp; taxes</td>\n",
              "      <td>Labour &amp; Employment</td>\n",
              "      <td>Cross Practice - Federal General Politics</td>\n",
              "      <td>NaN</td>\n",
              "      <td>Yes - Graeden</td>\n",
              "      <td>NaN</td>\n",
              "      <td>NaN</td>\n",
              "      <td>NaN</td>\n",
              "      <td>NaN</td>\n",
              "      <td>NaN</td>\n",
              "      <td>NaN</td>\n",
              "    </tr>\n",
              "    <tr>\n",
              "      <th>3</th>\n",
              "      <td>Kelly McParland: Expected snap election shows ...</td>\n",
              "      <td>News Article</td>\n",
              "      <td>NaN</td>\n",
              "      <td>https://nationalpost.com/opinion/kelly-mcparla...</td>\n",
              "      <td>No</td>\n",
              "      <td>Talks about intentions behind an election - th...</td>\n",
              "      <td>cross practice - federal general politics</td>\n",
              "      <td>NaN</td>\n",
              "      <td>NaN</td>\n",
              "      <td>NaN</td>\n",
              "      <td>NaN</td>\n",
              "      <td>NaN</td>\n",
              "      <td>NaN</td>\n",
              "      <td>NaN</td>\n",
              "      <td>NaN</td>\n",
              "      <td>NaN</td>\n",
              "      <td>NaN</td>\n",
              "    </tr>\n",
              "    <tr>\n",
              "      <th>4</th>\n",
              "      <td>New Democrat leader Jagmeet Singh yesterday pr...</td>\n",
              "      <td>News Article</td>\n",
              "      <td>NaN</td>\n",
              "      <td>https://www.blacklocks.ca/seeks-billions-in-ne...</td>\n",
              "      <td>Yes</td>\n",
              "      <td>NaN</td>\n",
              "      <td>party related</td>\n",
              "      <td>Cross Practice - Federal General Politics</td>\n",
              "      <td>NaN</td>\n",
              "      <td>NaN</td>\n",
              "      <td>In Progress - Graeden</td>\n",
              "      <td>NaN</td>\n",
              "      <td>NaN</td>\n",
              "      <td>NaN</td>\n",
              "      <td>NaN</td>\n",
              "      <td>NaN</td>\n",
              "      <td>NaN</td>\n",
              "    </tr>\n",
              "  </tbody>\n",
              "</table>\n",
              "</div>"
            ],
            "text/plain": [
              "                                               Title  ... Client (ex: Kevin Vuong, C3)\n",
              "0  Alison Macdonald wins Liberal Party Nomination...  ...                          NaN\n",
              "1  Senior Liberal ministerial staffers start to t...  ...                          NaN\n",
              "2  Affordability anxiety continues as income and ...  ...                          NaN\n",
              "3  Kelly McParland: Expected snap election shows ...  ...                          NaN\n",
              "4  New Democrat leader Jagmeet Singh yesterday pr...  ...                          NaN\n",
              "\n",
              "[5 rows x 17 columns]"
            ]
          },
          "metadata": {},
          "execution_count": 8
        }
      ]
    },
    {
      "cell_type": "code",
      "metadata": {
        "colab": {
          "base_uri": "https://localhost:8080/"
        },
        "id": "2xFO3LeT1BDE",
        "outputId": "406cdde8-0e54-42f6-fcba-9de2a242ad1b"
      },
      "source": [
        "mdf[\"Practice Area\"].value_counts(ascending=True)"
      ],
      "execution_count": 9,
      "outputs": [
        {
          "output_type": "execute_result",
          "data": {
            "text/plain": [
              "us pharma policy                               1\n",
              "biosimilars and biologics                      2\n",
              "transit                                        3\n",
              "privacy / security                             3\n",
              "immigration                                    4\n",
              "national defence                               4\n",
              "digital health                                 4\n",
              "infrastructure                                 4\n",
              "education & training                           4\n",
              "small business                                 5\n",
              "energy & natural resources                     6\n",
              "agriculture                                    6\n",
              "families & youth                               9\n",
              "public health                                 12\n",
              "cross practice - higher education             12\n",
              "labour & employment                           12\n",
              "seniors                                       14\n",
              "environment                                   14\n",
              "indigenous relations                          15\n",
              "dermatology                                   16\n",
              "thrombosis                                    16\n",
              "regulated health prof.                        18\n",
              "health systems strategy                       22\n",
              "mental health and addictions                  24\n",
              "economy, finances, & taxes                    24\n",
              "foreign affairs                               27\n",
              "housing                                       27\n",
              "cannabis                                      35\n",
              "health general overview                       91\n",
              "cross practice - ontario general politics    120\n",
              "covid-19                                     259\n",
              "cross practice - other canadian politics     268\n",
              "party related                                272\n",
              "biopharmaceutical                            469\n",
              "cross practice - federal general politics    594\n",
              "Name: Practice Area, dtype: int64"
            ]
          },
          "metadata": {},
          "execution_count": 9
        }
      ]
    },
    {
      "cell_type": "code",
      "metadata": {
        "id": "FQ2oTFsC1HLV",
        "colab": {
          "base_uri": "https://localhost:8080/"
        },
        "outputId": "751a3d9a-f244-42e5-ff5f-5ae5635541c4"
      },
      "source": [
        "mdf[\"Practice Area\"].value_counts(ascending=True)<50\n",
        "mdf = mdf.apply(lambda x: x.mask(x.map(x.value_counts())<50, 'other news') if x.name=='Practice Area' else x)\n",
        "\n",
        "mdf[\"Practice Area\"].value_counts(ascending=True)"
      ],
      "execution_count": 10,
      "outputs": [
        {
          "output_type": "execute_result",
          "data": {
            "text/plain": [
              "health general overview                       91\n",
              "cross practice - ontario general politics    120\n",
              "covid-19                                     259\n",
              "cross practice - other canadian politics     268\n",
              "party related                                272\n",
              "other news                                   343\n",
              "biopharmaceutical                            469\n",
              "cross practice - federal general politics    594\n",
              "Name: Practice Area, dtype: int64"
            ]
          },
          "metadata": {},
          "execution_count": 10
        }
      ]
    },
    {
      "cell_type": "code",
      "metadata": {
        "id": "5EnhTLCQ3P7m"
      },
      "source": [
        "mdf = mdf.filter(['Title', 'Practice Area'])"
      ],
      "execution_count": 11,
      "outputs": []
    },
    {
      "cell_type": "code",
      "metadata": {
        "id": "zaC0YBFjbYaA"
      },
      "source": [
        "mdf.to_json(\"Source Trove.json\")"
      ],
      "execution_count": 12,
      "outputs": []
    },
    {
      "cell_type": "markdown",
      "metadata": {
        "id": "6NFjniBhuocj"
      },
      "source": [
        "# Main Script"
      ]
    },
    {
      "cell_type": "code",
      "metadata": {
        "colab": {
          "base_uri": "https://localhost:8080/"
        },
        "id": "dkGfNge8dQyP",
        "outputId": "85e72be4-4e4d-427a-a48a-31043ae60257"
      },
      "source": [
        "from DataLoader import Dataset\n",
        "from Model import BERT\n",
        "from utils import plot_confusion_matrix, export_csv_predictions\n",
        "\n",
        "TrainGen = Dataset(\"Source Trove.json\")\n",
        "TestGen = Dataset(\"Source Trove.json\", mode='test')\n",
        "ValGen = Dataset(\"Source Trove.json\", mode='val')\n",
        "\n",
        "model = BERT(TrainGen.n_classes)\n",
        "model.train(TrainGen, ValGen,TrainGen.class_weights())\n",
        "model.save_model(save_path='model.h5')\n",
        "model.load_model(model_path='model.h5')"
      ],
      "execution_count": 13,
      "outputs": [
        {
          "output_type": "stream",
          "name": "stdout",
          "text": [
            "Epoch 1/15\n",
            "36/36 [==============================] - 31s 655ms/step - loss: 2.1861 - categorical_accuracy: 0.1952 - precision: 0.3418 - recall: 0.0160 - val_loss: 1.9043 - val_categorical_accuracy: 0.2790 - val_precision: 0.0000e+00 - val_recall: 0.0000e+00\n",
            "Epoch 2/15\n",
            "36/36 [==============================] - 23s 629ms/step - loss: 1.7427 - categorical_accuracy: 0.3785 - precision: 0.7742 - recall: 0.0284 - val_loss: 1.5423 - val_categorical_accuracy: 0.4199 - val_precision: 0.8136 - val_recall: 0.1326\n",
            "Epoch 3/15\n",
            "36/36 [==============================] - 23s 639ms/step - loss: 1.4320 - categorical_accuracy: 0.4879 - precision: 0.7500 - recall: 0.1597 - val_loss: 1.4240 - val_categorical_accuracy: 0.4586 - val_precision: 0.6195 - val_recall: 0.1934\n",
            "Epoch 4/15\n",
            "36/36 [==============================] - 23s 637ms/step - loss: 1.1961 - categorical_accuracy: 0.5760 - precision: 0.7402 - recall: 0.2898 - val_loss: 1.3712 - val_categorical_accuracy: 0.4917 - val_precision: 0.6265 - val_recall: 0.2873\n",
            "Epoch 5/15\n",
            "36/36 [==============================] - 23s 634ms/step - loss: 1.0347 - categorical_accuracy: 0.6198 - precision: 0.7725 - recall: 0.4015 - val_loss: 1.2565 - val_categorical_accuracy: 0.5635 - val_precision: 0.6615 - val_recall: 0.3564\n",
            "Epoch 6/15\n",
            "36/36 [==============================] - 23s 640ms/step - loss: 0.8891 - categorical_accuracy: 0.6753 - precision: 0.7777 - recall: 0.4820 - val_loss: 1.2391 - val_categorical_accuracy: 0.5663 - val_precision: 0.6535 - val_recall: 0.4116\n",
            "Epoch 7/15\n",
            "36/36 [==============================] - 23s 636ms/step - loss: 0.7776 - categorical_accuracy: 0.7126 - precision: 0.8180 - recall: 0.5636 - val_loss: 1.2085 - val_categorical_accuracy: 0.5746 - val_precision: 0.6561 - val_recall: 0.4586\n",
            "Epoch 8/15\n",
            "36/36 [==============================] - 23s 639ms/step - loss: 0.6868 - categorical_accuracy: 0.7475 - precision: 0.8320 - recall: 0.6180 - val_loss: 1.2292 - val_categorical_accuracy: 0.5884 - val_precision: 0.6504 - val_recall: 0.4779\n",
            "Epoch 9/15\n",
            "36/36 [==============================] - 23s 637ms/step - loss: 0.6213 - categorical_accuracy: 0.7705 - precision: 0.8426 - recall: 0.6523 - val_loss: 1.2241 - val_categorical_accuracy: 0.5773 - val_precision: 0.6384 - val_recall: 0.4779\n",
            "Epoch 10/15\n",
            "36/36 [==============================] - 23s 635ms/step - loss: 0.5495 - categorical_accuracy: 0.7883 - precision: 0.8557 - recall: 0.7014 - val_loss: 1.2292 - val_categorical_accuracy: 0.5939 - val_precision: 0.6505 - val_recall: 0.5193\n",
            "Epoch 11/15\n",
            "36/36 [==============================] - 23s 645ms/step - loss: 0.5041 - categorical_accuracy: 0.8143 - precision: 0.8695 - recall: 0.7292 - val_loss: 1.2335 - val_categorical_accuracy: 0.5829 - val_precision: 0.6396 - val_recall: 0.5000\n",
            "Epoch 12/15\n",
            "36/36 [==============================] - 23s 629ms/step - loss: 0.4622 - categorical_accuracy: 0.8273 - precision: 0.8775 - recall: 0.7499 - val_loss: 1.2484 - val_categorical_accuracy: 0.5746 - val_precision: 0.6426 - val_recall: 0.5166\n",
            "Epoch 13/15\n",
            "36/36 [==============================] - 23s 636ms/step - loss: 0.4440 - categorical_accuracy: 0.8326 - precision: 0.8847 - recall: 0.7670 - val_loss: 1.2364 - val_categorical_accuracy: 0.5884 - val_precision: 0.6488 - val_recall: 0.5359\n",
            "Epoch 14/15\n",
            "36/36 [==============================] - 23s 637ms/step - loss: 0.4256 - categorical_accuracy: 0.8539 - precision: 0.8989 - recall: 0.7782 - val_loss: 1.2388 - val_categorical_accuracy: 0.5939 - val_precision: 0.6486 - val_recall: 0.5304\n",
            "Epoch 15/15\n",
            "36/36 [==============================] - 23s 639ms/step - loss: 0.4002 - categorical_accuracy: 0.8486 - precision: 0.9052 - recall: 0.7907 - val_loss: 1.2329 - val_categorical_accuracy: 0.5939 - val_precision: 0.6531 - val_recall: 0.5304\n"
          ]
        }
      ]
    },
    {
      "cell_type": "code",
      "metadata": {
        "colab": {
          "base_uri": "https://localhost:8080/",
          "height": 800
        },
        "id": "I84xbgNqf7UB",
        "outputId": "be8d4409-5f2e-413d-d1ad-6260c16ff7d8"
      },
      "source": [
        "plot_confusion_matrix(TestGen, model)"
      ],
      "execution_count": 14,
      "outputs": [
        {
          "output_type": "display_data",
          "data": {
            "image/png": "[encoded data removed]",
            "text/plain": [
              "<Figure size 720x720 with 2 Axes>"
            ]
          },
          "metadata": {
            "needs_background": "light"
          }
        }
      ]
    },
    {
      "cell_type": "code",
      "metadata": {
        "id": "19LAeHHm7aTE"
      },
      "source": [
        "export_csv_predictions(TestGen, model)"
      ],
      "execution_count": 15,
      "outputs": []
    }
  ]
}